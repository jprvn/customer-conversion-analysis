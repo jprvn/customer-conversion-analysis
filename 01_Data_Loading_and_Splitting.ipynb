{
 "cells": [
  {
   "cell_type": "code",
   "execution_count": 1,
   "metadata": {},
   "outputs": [
    {
     "name": "stdout",
     "output_type": "stream",
     "text": [
      "Pandas version: 2.2.3\n"
     ]
    }
   ],
   "source": [
    "import pandas as pd\n",
    "import os\n",
    "\n",
    "print(\"Pandas version:\", pd.__version__)\n"
   ]
  },
  {
   "cell_type": "code",
   "execution_count": 10,
   "metadata": {},
   "outputs": [],
   "source": [
    "from sklearn.model_selection import train_test_split"
   ]
  },
  {
   "cell_type": "code",
   "execution_count": 3,
   "metadata": {},
   "outputs": [
    {
     "name": "stdout",
     "output_type": "stream",
     "text": [
      "Found data file at: data\\e-shop clothing 2008.csv\n"
     ]
    }
   ],
   "source": [
    "# Define the path to the downloaded data file\n",
    "# Make sure this matches the name of the file you downloaded into the 'data' subfolder\n",
    "raw_data_filename = \"e-shop clothing 2008.csv\" # <-- *** REPLACE THIS WITH YOUR ACTUAL FILENAME ***\n",
    "raw_data_path = os.path.join(\"data\", raw_data_filename)\n",
    "\n",
    "# Check if the file exists\n",
    "if os.path.exists(raw_data_path):\n",
    "    print(f\"Found data file at: {raw_data_path}\")\n",
    "else:\n",
    "    print(f\"ERROR: Data file not found at: {raw_data_path}\")\n",
    "    print(\"Please make sure the file is in the 'data' folder and the filename is correct.\")\n",
    "    # Stop execution if file not found (optional, but good practice)\n",
    "    raise FileNotFoundError(f\"Data file not found: {raw_data_path}\")"
   ]
  },
  {
   "cell_type": "code",
   "execution_count": 4,
   "metadata": {},
   "outputs": [
    {
     "name": "stdout",
     "output_type": "stream",
     "text": [
      "Successfully loaded with default settings. Displaying first 5 rows:\n",
      "  year;month;day;order;country;session ID;page 1 (main category);page 2 (clothing model);colour;location;model photography;price;price 2;page\n",
      "0                 2008;4;1;1;29;1;1;A13;1;5;1;28;2;1                                                                                         \n",
      "1                 2008;4;1;2;29;1;1;A16;1;6;1;33;2;1                                                                                         \n",
      "2                 2008;4;1;3;29;1;2;B4;10;2;1;52;1;1                                                                                         \n",
      "3                 2008;4;1;4;29;1;2;B17;6;6;2;38;2;1                                                                                         \n",
      "4                  2008;4;1;5;29;1;2;B8;4;3;2;52;1;1                                                                                         \n",
      "\n",
      "DataFrame Info:\n",
      "<class 'pandas.core.frame.DataFrame'>\n",
      "RangeIndex: 165474 entries, 0 to 165473\n",
      "Data columns (total 1 columns):\n",
      " #   Column                                                                                                                                       Non-Null Count   Dtype \n",
      "---  ------                                                                                                                                       --------------   ----- \n",
      " 0   year;month;day;order;country;session ID;page 1 (main category);page 2 (clothing model);colour;location;model photography;price;price 2;page  165474 non-null  object\n",
      "dtypes: object(1)\n",
      "memory usage: 1.3+ MB\n"
     ]
    }
   ],
   "source": [
    "# Try loading with default settings (comma delimiter)\n",
    "try:\n",
    "    df_raw = pd.read_csv(raw_data_path)\n",
    "    print(\"Successfully loaded with default settings. Displaying first 5 rows:\")\n",
    "    print(df_raw.head())\n",
    "    print(\"\\nDataFrame Info:\")\n",
    "    df_raw.info()\n",
    "except Exception as e:\n",
    "    print(f\"Default loading failed. Error: {e}\")\n",
    "    print(\"\\nTrying common alternatives...\")"
   ]
  },
  {
   "cell_type": "code",
   "execution_count": 5,
   "metadata": {},
   "outputs": [
    {
     "name": "stdout",
     "output_type": "stream",
     "text": [
      "Successfully loaded with semicolon delimiter. Displaying first 5 rows:\n",
      "   year  month  day  order  country  session ID  page 1 (main category)  \\\n",
      "0  2008      4    1      1       29           1                       1   \n",
      "1  2008      4    1      2       29           1                       1   \n",
      "2  2008      4    1      3       29           1                       2   \n",
      "3  2008      4    1      4       29           1                       2   \n",
      "4  2008      4    1      5       29           1                       2   \n",
      "\n",
      "  page 2 (clothing model)  colour  location  model photography  price  \\\n",
      "0                     A13       1         5                  1     28   \n",
      "1                     A16       1         6                  1     33   \n",
      "2                      B4      10         2                  1     52   \n",
      "3                     B17       6         6                  2     38   \n",
      "4                      B8       4         3                  2     52   \n",
      "\n",
      "   price 2  page  \n",
      "0        2     1  \n",
      "1        2     1  \n",
      "2        1     1  \n",
      "3        2     1  \n",
      "4        1     1  \n",
      "\n",
      "DataFrame Info:\n",
      "<class 'pandas.core.frame.DataFrame'>\n",
      "RangeIndex: 165474 entries, 0 to 165473\n",
      "Data columns (total 14 columns):\n",
      " #   Column                   Non-Null Count   Dtype \n",
      "---  ------                   --------------   ----- \n",
      " 0   year                     165474 non-null  int64 \n",
      " 1   month                    165474 non-null  int64 \n",
      " 2   day                      165474 non-null  int64 \n",
      " 3   order                    165474 non-null  int64 \n",
      " 4   country                  165474 non-null  int64 \n",
      " 5   session ID               165474 non-null  int64 \n",
      " 6   page 1 (main category)   165474 non-null  int64 \n",
      " 7   page 2 (clothing model)  165474 non-null  object\n",
      " 8   colour                   165474 non-null  int64 \n",
      " 9   location                 165474 non-null  int64 \n",
      " 10  model photography        165474 non-null  int64 \n",
      " 11  price                    165474 non-null  int64 \n",
      " 12  price 2                  165474 non-null  int64 \n",
      " 13  page                     165474 non-null  int64 \n",
      "dtypes: int64(13), object(1)\n",
      "memory usage: 17.7+ MB\n"
     ]
    }
   ],
   "source": [
    "try:\n",
    "    df_raw = pd.read_csv(raw_data_path, sep=';')\n",
    "    print(\"Successfully loaded with semicolon delimiter. Displaying first 5 rows:\")\n",
    "    print(df_raw.head())\n",
    "    print(\"\\nDataFrame Info:\")\n",
    "    df_raw.info()\n",
    "except Exception as e:\n",
    "    print(f\"Loading with semicolon delimiter failed. Error: {e}\")"
   ]
  },
  {
   "cell_type": "code",
   "execution_count": 6,
   "metadata": {},
   "outputs": [
    {
     "name": "stdout",
     "output_type": "stream",
     "text": [
      "Successfully loaded skipping initial rows. Displaying first 5 rows:\n",
      "    2008;4;1;6;29;2;1;A10;3;4;1;38;2;1\n",
      "0   2008;4;1;7;29;2;2;B27;2;3;1;57;1;2\n",
      "1    2008;4;1;8;29;2;4;P1;3;1;1;38;1;1\n",
      "2   2008;4;1;9;29;2;4;P34;9;6;2;48;1;2\n",
      "3  2008;4;1;10;29;2;4;P33;9;5;1;43;1;2\n",
      "4   2008;4;1;1;21;3;2;B17;6;6;2;38;2;1\n",
      "\n",
      "DataFrame Info:\n",
      "<class 'pandas.core.frame.DataFrame'>\n",
      "RangeIndex: 165459 entries, 0 to 165458\n",
      "Data columns (total 1 columns):\n",
      " #   Column                              Non-Null Count   Dtype \n",
      "---  ------                              --------------   ----- \n",
      " 0   2008;4;1;6;29;2;1;A10;3;4;1;38;2;1  165459 non-null  object\n",
      "dtypes: object(1)\n",
      "memory usage: 1.3+ MB\n"
     ]
    }
   ],
   "source": [
    "try:\n",
    "    # Adjust the number '15' based on how many lines you need to skip\n",
    "    df_raw = pd.read_csv(raw_data_path, sep=',', skiprows=15) # Adjust sep if needed\n",
    "    print(\"Successfully loaded skipping initial rows. Displaying first 5 rows:\")\n",
    "    print(df_raw.head())\n",
    "    # IMPORTANT: Check if the header row is now correct. If not, you might need header=None\n",
    "    print(\"\\nDataFrame Info:\")\n",
    "    df_raw.info()\n",
    "except Exception as e:\n",
    "    print(f\"Loading with skiprows failed. Error: {e}\")\n",
    "    "
   ]
  },
  {
   "cell_type": "code",
   "execution_count": 7,
   "metadata": {},
   "outputs": [
    {
     "name": "stdout",
     "output_type": "stream",
     "text": [
      "Successfully loaded with specified names, skipping rows, no header. Displaying first 5 rows:\n",
      "   YEAR  MONTH  DAY  ORDER  COUNTRY  SESSION ID  PAGE 1 (MAIN CATEGORY)  \\\n",
      "0  2008      4    1      6       29           2                       1   \n",
      "1  2008      4    1      7       29           2                       2   \n",
      "2  2008      4    1      8       29           2                       4   \n",
      "3  2008      4    1      9       29           2                       4   \n",
      "4  2008      4    1     10       29           2                       4   \n",
      "\n",
      "  PAGE 2 (CLOTHING MODEL)  COLOUR  LOCATION  MODEL PHOTOGRAPHY  PRICE  \\\n",
      "0                     A10       3         4                  1     38   \n",
      "1                     B27       2         3                  1     57   \n",
      "2                      P1       3         1                  1     38   \n",
      "3                     P34       9         6                  2     48   \n",
      "4                     P33       9         5                  1     43   \n",
      "\n",
      "   PRICE 2  PAGE  \n",
      "0        2     1  \n",
      "1        1     2  \n",
      "2        1     1  \n",
      "3        1     2  \n",
      "4        1     2  \n",
      "\n",
      "DataFrame Info:\n",
      "<class 'pandas.core.frame.DataFrame'>\n",
      "RangeIndex: 165460 entries, 0 to 165459\n",
      "Data columns (total 14 columns):\n",
      " #   Column                   Non-Null Count   Dtype \n",
      "---  ------                   --------------   ----- \n",
      " 0   YEAR                     165460 non-null  int64 \n",
      " 1   MONTH                    165460 non-null  int64 \n",
      " 2   DAY                      165460 non-null  int64 \n",
      " 3   ORDER                    165460 non-null  int64 \n",
      " 4   COUNTRY                  165460 non-null  int64 \n",
      " 5   SESSION ID               165460 non-null  int64 \n",
      " 6   PAGE 1 (MAIN CATEGORY)   165460 non-null  int64 \n",
      " 7   PAGE 2 (CLOTHING MODEL)  165460 non-null  object\n",
      " 8   COLOUR                   165460 non-null  int64 \n",
      " 9   LOCATION                 165460 non-null  int64 \n",
      " 10  MODEL PHOTOGRAPHY        165460 non-null  int64 \n",
      " 11  PRICE                    165460 non-null  int64 \n",
      " 12  PRICE 2                  165460 non-null  int64 \n",
      " 13  PAGE                     165460 non-null  int64 \n",
      "dtypes: int64(13), object(1)\n",
      "memory usage: 17.7+ MB\n"
     ]
    }
   ],
   "source": [
    "# Define column names based on the description you provided\n",
    "column_names = [\n",
    "    'YEAR', 'MONTH', 'DAY', 'ORDER', 'COUNTRY', 'SESSION ID',\n",
    "    'PAGE 1 (MAIN CATEGORY)', 'PAGE 2 (CLOTHING MODEL)', 'COLOUR',\n",
    "    'LOCATION', 'MODEL PHOTOGRAPHY', 'PRICE', 'PRICE 2', 'PAGE'\n",
    "]\n",
    "\n",
    "try:\n",
    "    # Example: Skip 15 description lines, no header in data, use semicolon delimiter\n",
    "    df_raw = pd.read_csv(raw_data_path, sep=';', skiprows=15, header=None, names=column_names)\n",
    "    print(\"Successfully loaded with specified names, skipping rows, no header. Displaying first 5 rows:\")\n",
    "    print(df_raw.head())\n",
    "    print(\"\\nDataFrame Info:\")\n",
    "    df_raw.info()\n",
    "except Exception as e:\n",
    "    print(f\"Loading with specified names failed. Error: {e}\")"
   ]
  },
  {
   "cell_type": "code",
   "execution_count": 8,
   "metadata": {},
   "outputs": [
    {
     "name": "stdout",
     "output_type": "stream",
     "text": [
      "Successfully loaded with specified names, skipping rows, no header. Displaying first 5 rows:\n",
      "   YEAR  MONTH  DAY  ORDER  COUNTRY  SESSION ID  PAGE 1 (MAIN CATEGORY)  \\\n",
      "0  2008      4    1      6       29           2                       1   \n",
      "1  2008      4    1      7       29           2                       2   \n",
      "2  2008      4    1      8       29           2                       4   \n",
      "3  2008      4    1      9       29           2                       4   \n",
      "4  2008      4    1     10       29           2                       4   \n",
      "\n",
      "  PAGE 2 (CLOTHING MODEL)  COLOUR  LOCATION  MODEL PHOTOGRAPHY  PRICE  \\\n",
      "0                     A10       3         4                  1     38   \n",
      "1                     B27       2         3                  1     57   \n",
      "2                      P1       3         1                  1     38   \n",
      "3                     P34       9         6                  2     48   \n",
      "4                     P33       9         5                  1     43   \n",
      "\n",
      "   PRICE 2  PAGE  \n",
      "0        2     1  \n",
      "1        1     2  \n",
      "2        1     1  \n",
      "3        1     2  \n",
      "4        1     2  \n",
      "\n",
      "DataFrame Info:\n",
      "<class 'pandas.core.frame.DataFrame'>\n",
      "RangeIndex: 165460 entries, 0 to 165459\n",
      "Data columns (total 14 columns):\n",
      " #   Column                   Non-Null Count   Dtype \n",
      "---  ------                   --------------   ----- \n",
      " 0   YEAR                     165460 non-null  int64 \n",
      " 1   MONTH                    165460 non-null  int64 \n",
      " 2   DAY                      165460 non-null  int64 \n",
      " 3   ORDER                    165460 non-null  int64 \n",
      " 4   COUNTRY                  165460 non-null  int64 \n",
      " 5   SESSION ID               165460 non-null  int64 \n",
      " 6   PAGE 1 (MAIN CATEGORY)   165460 non-null  int64 \n",
      " 7   PAGE 2 (CLOTHING MODEL)  165460 non-null  object\n",
      " 8   COLOUR                   165460 non-null  int64 \n",
      " 9   LOCATION                 165460 non-null  int64 \n",
      " 10  MODEL PHOTOGRAPHY        165460 non-null  int64 \n",
      " 11  PRICE                    165460 non-null  int64 \n",
      " 12  PRICE 2                  165460 non-null  int64 \n",
      " 13  PAGE                     165460 non-null  int64 \n",
      "dtypes: int64(13), object(1)\n",
      "memory usage: 17.7+ MB\n"
     ]
    }
   ],
   "source": [
    "# Define column names based on the description you provided\n",
    "column_names = [\n",
    "    'YEAR', 'MONTH', 'DAY', 'ORDER', 'COUNTRY', 'SESSION ID',\n",
    "    'PAGE 1 (MAIN CATEGORY)', 'PAGE 2 (CLOTHING MODEL)', 'COLOUR',\n",
    "    'LOCATION', 'MODEL PHOTOGRAPHY', 'PRICE', 'PRICE 2', 'PAGE'\n",
    "]\n",
    "\n",
    "try:\n",
    "    # Example: Skip 15 description lines, no header in data, use semicolon delimiter\n",
    "    df_raw = pd.read_csv(raw_data_path, sep=';', skiprows=15, header=None, names=column_names)\n",
    "    print(\"Successfully loaded with specified names, skipping rows, no header. Displaying first 5 rows:\")\n",
    "    print(df_raw.head())\n",
    "    print(\"\\nDataFrame Info:\")\n",
    "    df_raw.info()\n",
    "except Exception as e:\n",
    "    print(f\"Loading with specified names failed. Error: {e}\")"
   ]
  },
  {
   "cell_type": "code",
   "execution_count": 9,
   "metadata": {},
   "outputs": [
    {
     "name": "stdout",
     "output_type": "stream",
     "text": [
      "Successfully loaded with latin1 encoding. Displaying first 5 rows:\n",
      "   year  month  day  order  country  session ID  page 1 (main category)  \\\n",
      "0  2008      4    1      1       29           1                       1   \n",
      "1  2008      4    1      2       29           1                       1   \n",
      "2  2008      4    1      3       29           1                       2   \n",
      "3  2008      4    1      4       29           1                       2   \n",
      "4  2008      4    1      5       29           1                       2   \n",
      "\n",
      "  page 2 (clothing model)  colour  location  model photography  price  \\\n",
      "0                     A13       1         5                  1     28   \n",
      "1                     A16       1         6                  1     33   \n",
      "2                      B4      10         2                  1     52   \n",
      "3                     B17       6         6                  2     38   \n",
      "4                      B8       4         3                  2     52   \n",
      "\n",
      "   price 2  page  \n",
      "0        2     1  \n",
      "1        2     1  \n",
      "2        1     1  \n",
      "3        2     1  \n",
      "4        1     1  \n",
      "\n",
      "DataFrame Info:\n",
      "<class 'pandas.core.frame.DataFrame'>\n",
      "RangeIndex: 165474 entries, 0 to 165473\n",
      "Data columns (total 14 columns):\n",
      " #   Column                   Non-Null Count   Dtype \n",
      "---  ------                   --------------   ----- \n",
      " 0   year                     165474 non-null  int64 \n",
      " 1   month                    165474 non-null  int64 \n",
      " 2   day                      165474 non-null  int64 \n",
      " 3   order                    165474 non-null  int64 \n",
      " 4   country                  165474 non-null  int64 \n",
      " 5   session ID               165474 non-null  int64 \n",
      " 6   page 1 (main category)   165474 non-null  int64 \n",
      " 7   page 2 (clothing model)  165474 non-null  object\n",
      " 8   colour                   165474 non-null  int64 \n",
      " 9   location                 165474 non-null  int64 \n",
      " 10  model photography        165474 non-null  int64 \n",
      " 11  price                    165474 non-null  int64 \n",
      " 12  price 2                  165474 non-null  int64 \n",
      " 13  page                     165474 non-null  int64 \n",
      "dtypes: int64(13), object(1)\n",
      "memory usage: 17.7+ MB\n"
     ]
    }
   ],
   "source": [
    "try:\n",
    "    df_raw = pd.read_csv(raw_data_path, sep=';', encoding='latin1') # Example\n",
    "    print(\"Successfully loaded with latin1 encoding. Displaying first 5 rows:\")\n",
    "    print(df_raw.head())\n",
    "    print(\"\\nDataFrame Info:\")\n",
    "    df_raw.info()\n",
    "except Exception as e:\n",
    "    print(f\"Loading with latin1 encoding failed. Error: {e}\")"
   ]
  },
  {
   "cell_type": "code",
   "execution_count": 11,
   "metadata": {},
   "outputs": [
    {
     "name": "stdout",
     "output_type": "stream",
     "text": [
      "Original dataset shape: (165474, 14)\n",
      "Train set shape: (132379, 14)\n",
      "Test set shape: (33095, 14)\n"
     ]
    }
   ],
   "source": [
    "from sklearn.model_selection import train_test_split\n",
    "# Check if df_raw exists and is a DataFrame\n",
    "if 'df_raw' in locals() and isinstance(df_raw, pd.DataFrame):\n",
    "    print(f\"Original dataset shape: {df_raw.shape}\")\n",
    "\n",
    "    # Define the test set size (e.g., 20% of the data)\n",
    "    test_set_size = 0.20\n",
    "\n",
    "    # Split the data\n",
    "    # random_state ensures the split is the same every time we run the code (reproducibility)\n",
    "    df_train, df_test = train_test_split(df_raw, test_size=test_set_size, random_state=42)\n",
    "\n",
    "    print(f\"Train set shape: {df_train.shape}\")\n",
    "    print(f\"Test set shape: {df_test.shape}\")\n",
    "\n",
    "else:\n",
    "    print(\"Error: df_raw is not loaded correctly. Please fix the data loading steps above.\")"
   ]
  },
  {
   "cell_type": "code",
   "execution_count": 12,
   "metadata": {},
   "outputs": [
    {
     "name": "stdout",
     "output_type": "stream",
     "text": [
      "Successfully saved train.csv to data\\train.csv\n",
      "Successfully saved test.csv to data\\test.csv\n"
     ]
    }
   ],
   "source": [
    "# Define paths for the new train and test files\n",
    "train_output_path = os.path.join(\"data\", \"train.csv\")\n",
    "test_output_path = os.path.join(\"data\", \"test.csv\")\n",
    "\n",
    "# Save the DataFrames to CSV files\n",
    "# index=False prevents pandas from writing the DataFrame index as a column\n",
    "if 'df_train' in locals() and 'df_test' in locals():\n",
    "    try:\n",
    "        df_train.to_csv(train_output_path, index=False)\n",
    "        df_test.to_csv(test_output_path, index=False)\n",
    "        print(f\"Successfully saved train.csv to {train_output_path}\")\n",
    "        print(f\"Successfully saved test.csv to {test_output_path}\")\n",
    "    except Exception as e:\n",
    "        print(f\"Error saving files: {e}\")\n",
    "else:\n",
    "    print(\"Error: Train/Test split did not occur. Cannot save files.\")"
   ]
  },
  {
   "cell_type": "code",
   "execution_count": null,
   "metadata": {},
   "outputs": [],
   "source": []
  }
 ],
 "metadata": {
  "kernelspec": {
   "display_name": ".venv",
   "language": "python",
   "name": "python3"
  },
  "language_info": {
   "codemirror_mode": {
    "name": "ipython",
    "version": 3
   },
   "file_extension": ".py",
   "mimetype": "text/x-python",
   "name": "python",
   "nbconvert_exporter": "python",
   "pygments_lexer": "ipython3",
   "version": "3.13.2"
  }
 },
 "nbformat": 4,
 "nbformat_minor": 2
}
